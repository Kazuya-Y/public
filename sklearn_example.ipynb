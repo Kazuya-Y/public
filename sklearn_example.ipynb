{
 "cells": [
  {
   "cell_type": "code",
   "execution_count": 1,
   "id": "ebf116d2-9c61-48d6-b0ae-6cf4ec61da3f",
   "metadata": {},
   "outputs": [],
   "source": [
    "import numpy as np\n",
    "import pandas as pd\n",
    "import seaborn as sns\n",
    "from sklearn.impute import SimpleImputer\n",
    "from sklearn.compose import ColumnTransformer\n",
    "from category_encoders import TargetEncoder\n",
    "from sklearn.model_selection import RepeatedKFold,cross_val_score\n",
    "from sklearn.preprocessing import StandardScaler\n",
    "from sklearn.metrics import accuracy_score\n",
    "from sklearn.pipeline import Pipeline\n",
    "from sklearn.linear_model import LogisticRegression\n",
    "\n",
    "df=pd.read_csv(\"spaceship.csv\")\n",
    "\n",
    "#PassengerId、Nameカラムは不要なので削除\n",
    "df=df.loc[:,(df.columns!=\"Name\")&(df.columns!=\"PassengerId\")]\n",
    "\n",
    "#目的変数\"Transported\"がbooleanなのでintに変更\n",
    "df[\"Transported\"]=df[\"Transported\"].astype(\"int\")\n",
    "\n",
    "X=df.drop(\"Transported\",axis=1)\n",
    "y=df[\"Transported\"]\n",
    "\n",
    "cat_imputer=SimpleImputer(strategy=\"most_frequent\")\n",
    "num_imputer=SimpleImputer(strategy=\"median\")\n",
    "\n",
    "cat_cols=X.select_dtypes(exclude=np.number).columns.to_list()\n",
    "num_cols=X.select_dtypes(include=np.number).columns.to_list()\n",
    "\n",
    "ct=ColumnTransformer([(\"cat_imputer\",cat_imputer,cat_cols),\n",
    "                    (\"num_imputer\",num_imputer,num_cols)])\n",
    "ct.set_output(transform=\"pandas\")\n",
    "\n",
    "k=5\n",
    "n_repeats=3\n",
    "cv=RepeatedKFold(n_splits=k,n_repeats=n_repeats,random_state=0)\n",
    "\n",
    "pipe_te=Pipeline(steps=[(\"ct\",ct),\n",
    "                     (\"encoder\",TargetEncoder()),\n",
    "                     (\"scaler\",StandardScaler()),\n",
    "                     (\"model\",LogisticRegression())])\n",
    "\n",
    "score=np.mean(cross_val_score(pipe_te,X,y,cv=cv,scoring=\"accuracy\"))"
   ]
  }
 ],
 "metadata": {
  "kernelspec": {
   "display_name": "Python 3 (ipykernel)",
   "language": "python",
   "name": "python3"
  },
  "language_info": {
   "codemirror_mode": {
    "name": "ipython",
    "version": 3
   },
   "file_extension": ".py",
   "mimetype": "text/x-python",
   "name": "python",
   "nbconvert_exporter": "python",
   "pygments_lexer": "ipython3",
   "version": "3.9.12"
  }
 },
 "nbformat": 4,
 "nbformat_minor": 5
}
